{
 "cells": [
  {
   "cell_type": "code",
   "execution_count": 1,
   "metadata": {},
   "outputs": [],
   "source": [
    "from pathlib import Path\n",
    "import flippr as fp\n",
    "import polars as pl\n",
    "import scipy as sp\n",
    "import numpy as np\n"
   ]
  },
  {
   "cell_type": "code",
   "execution_count": 2,
   "metadata": {},
   "outputs": [
    {
     "name": "stdout",
     "output_type": "stream",
     "text": [
      "{'LiP': {'Refolded_005_min', 'Native', 'Refolded_120_min', 'Refolded_001_min'}, 'TrP': {'Refolded', 'Native'}}\n"
     ]
    }
   ],
   "source": [
    "\n",
    "lip = Path(\"LFQ/LiP\")\n",
    "trp = Path(\"LFQ/Control\")\n",
    "\n",
    "study = fp.Study(lip=lip, trp=trp)\n",
    "\n",
    "print(study.samples)\n",
    "\n",
    "study.add_process(1, \"Native\", \"Refolded_001_min\", 3)\n",
    "study.add_process(5, \"Native\", \"Refolded_005_min\", 3, \"Native\", \"Refolded\", 3)\n",
    "study.add_process(120, \"Native\", \"Refolded_120_min\", 3, \"Native\", \"Refolded\", 3)\n",
    "\n",
    "results = study.run()\n",
    "\n",
    "pep = results[5].peptide\n",
    "mod_pep = results[5].modified_peptide\n",
    "cut = results[5].cut_site\n"
   ]
  },
  {
   "cell_type": "code",
   "execution_count": 22,
   "metadata": {},
   "outputs": [],
   "source": [
    "s = \"Peptides\"\n",
    "val = pep.group_by(by = \"Protein ID\", maintain_order=True).agg(pl.col(\"CV\").filter(\n",
    "    (pl.col(\"-Log10 P-value\") > 0)\n",
    ").len()).rename({\"CV\": f\"No. of Valid {s}\"})\n",
    "\n",
    "sig = pep.group_by(by = \"Protein ID\", maintain_order=True).agg(pl.col(\"CV\").filter(\n",
    "    ((pl.col(\"Log2 Normalized FC\").abs() > 1) & (pl.col(\"-Log10 P-value\") > 2)) |\n",
    "    ((pl.col(\"Log2 Normalized FC\").abs() > 6) & (pl.col(\"-Log10 P-value\") > 1.8))\n",
    ").len()).rename({\"CV\": f\"No. of Significant {s} (P-value)\"})\n",
    "\n",
    "sigsig = pep.group_by(by = \"Protein ID\", maintain_order=True).agg(pl.col(\"CV\").filter(\n",
    "    ((pl.col(\"Log2 Normalized FC\").abs() > 1) & (pl.col(\"-Log10 Adj. P-value\") > 1.3))\n",
    ").len()).rename({\"CV\": f\"No. of Significant {s} (Adj. P-value)\"})\n"
   ]
  },
  {
   "cell_type": "code",
   "execution_count": 25,
   "metadata": {},
   "outputs": [
    {
     "data": {
      "text/html": [
       "<div><style>\n",
       ".dataframe > thead > tr,\n",
       ".dataframe > tbody > tr {\n",
       "  text-align: right;\n",
       "  white-space: pre-wrap;\n",
       "}\n",
       "</style>\n",
       "<small>shape: (1_299, 4)</small><table border=\"1\" class=\"dataframe\"><thead><tr><th>Protein ID</th><th>No. of Valid Peptides</th><th>No. of Significant Peptides (P-value)</th><th>No. of Significant Peptides (Adj. P-value)</th></tr><tr><td>str</td><td>u32</td><td>u32</td><td>u32</td></tr></thead><tbody><tr><td>&quot;P00350&quot;</td><td>135</td><td>30</td><td>16</td></tr><tr><td>&quot;P00363&quot;</td><td>16</td><td>0</td><td>0</td></tr><tr><td>&quot;P00370&quot;</td><td>26</td><td>4</td><td>4</td></tr><tr><td>&quot;P00448&quot;</td><td>50</td><td>12</td><td>12</td></tr><tr><td>&quot;P00452&quot;</td><td>59</td><td>6</td><td>3</td></tr><tr><td>&quot;P00509&quot;</td><td>69</td><td>15</td><td>15</td></tr><tr><td>&quot;P00547&quot;</td><td>2</td><td>0</td><td>0</td></tr><tr><td>&quot;P00561&quot;</td><td>25</td><td>4</td><td>0</td></tr><tr><td>&quot;P00562&quot;</td><td>8</td><td>0</td><td>0</td></tr><tr><td>&quot;P00579&quot;</td><td>52</td><td>6</td><td>4</td></tr><tr><td>&quot;P00582&quot;</td><td>56</td><td>6</td><td>1</td></tr><tr><td>&quot;P00634&quot;</td><td>2</td><td>0</td><td>0</td></tr><tr><td>&hellip;</td><td>&hellip;</td><td>&hellip;</td><td>&hellip;</td></tr><tr><td>&quot;Q46919&quot;</td><td>6</td><td>0</td><td>0</td></tr><tr><td>&quot;Q46920&quot;</td><td>21</td><td>6</td><td>6</td></tr><tr><td>&quot;Q46925&quot;</td><td>10</td><td>3</td><td>6</td></tr><tr><td>&quot;Q46927&quot;</td><td>10</td><td>1</td><td>0</td></tr><tr><td>&quot;Q46948&quot;</td><td>7</td><td>0</td><td>0</td></tr><tr><td>&quot;Q47147&quot;</td><td>3</td><td>0</td><td>0</td></tr><tr><td>&quot;Q47537&quot;</td><td>3</td><td>0</td><td>0</td></tr><tr><td>&quot;Q47622&quot;</td><td>5</td><td>1</td><td>1</td></tr><tr><td>&quot;Q57261&quot;</td><td>23</td><td>2</td><td>2</td></tr><tr><td>&quot;Q59385&quot;</td><td>14</td><td>0</td><td>0</td></tr><tr><td>&quot;Q7DFV3&quot;</td><td>5</td><td>1</td><td>1</td></tr><tr><td>&quot;Q93K97&quot;</td><td>10</td><td>1</td><td>1</td></tr></tbody></table></div>"
      ],
      "text/plain": [
       "shape: (1_299, 4)\n",
       "┌────────────┬───────────────────────┬──────────────────────────────┬──────────────────────────────┐\n",
       "│ Protein ID ┆ No. of Valid Peptides ┆ No. of Significant Peptides  ┆ No. of Significant Peptides  │\n",
       "│ ---        ┆ ---                   ┆ (P-v…                        ┆ (Adj…                        │\n",
       "│ str        ┆ u32                   ┆ ---                          ┆ ---                          │\n",
       "│            ┆                       ┆ u32                          ┆ u32                          │\n",
       "╞════════════╪═══════════════════════╪══════════════════════════════╪══════════════════════════════╡\n",
       "│ P00350     ┆ 135                   ┆ 30                           ┆ 16                           │\n",
       "│ P00363     ┆ 16                    ┆ 0                            ┆ 0                            │\n",
       "│ P00370     ┆ 26                    ┆ 4                            ┆ 4                            │\n",
       "│ P00448     ┆ 50                    ┆ 12                           ┆ 12                           │\n",
       "│ …          ┆ …                     ┆ …                            ┆ …                            │\n",
       "│ Q57261     ┆ 23                    ┆ 2                            ┆ 2                            │\n",
       "│ Q59385     ┆ 14                    ┆ 0                            ┆ 0                            │\n",
       "│ Q7DFV3     ┆ 5                     ┆ 1                            ┆ 1                            │\n",
       "│ Q93K97     ┆ 10                    ┆ 1                            ┆ 1                            │\n",
       "└────────────┴───────────────────────┴──────────────────────────────┴──────────────────────────────┘"
      ]
     },
     "execution_count": 25,
     "metadata": {},
     "output_type": "execute_result"
    }
   ],
   "source": [
    "val.join(sig, on = \"Protein ID\").join(sigsig, on = \"Protein ID\")"
   ]
  },
  {
   "cell_type": "code",
   "execution_count": 3,
   "metadata": {},
   "outputs": [],
   "source": [
    "ions  = results[5].ion"
   ]
  },
  {
   "cell_type": "code",
   "execution_count": 4,
   "metadata": {},
   "outputs": [],
   "source": [
    "FLIPPR_CUT_SITE_COLUMNS: list[str] = [\n",
    "    \"Protein ID\",\n",
    "    \"Cut Site\",\n",
    "    \"Gene\",\n",
    "    \"Entry Name\",\n",
    "    \"Protein Description\",\n",
    "    \"Mapped Genes\",\n",
    "    \"Mapped Proteins\",\n",
    "    \"Half Tryptic\"\n",
    "]"
   ]
  },
  {
   "cell_type": "code",
   "execution_count": 5,
   "metadata": {},
   "outputs": [],
   "source": [
    "meta = \\\n",
    "ions.group_by(by = \"Protein ID\", maintain_order=True).agg(\n",
    "    pl.col(FLIPPR_CUT_SITE_COLUMNS).first()\n",
    ")"
   ]
  },
  {
   "cell_type": "code",
   "execution_count": 6,
   "metadata": {},
   "outputs": [],
   "source": [
    "data = \\\n",
    "ions.group_by(by = [\"Protein ID\", \"Cut Site ID\"], maintain_order=True).agg(\n",
    "    pl.col([\"P-value\", \"Adj. P-value\", \"CV\", \"FC\"])\n",
    "    .filter(\n",
    "        pl.col(\"T-test\").sign() == pl.col(\"T-test\").sign().sum().sign()\n",
    "    )\n",
    ").with_columns(\n",
    "    pl.when(pl.col(\"P-value\").list.len() > 0)\n",
    "    .then(pl.col(\"P-value\"))\n",
    "    .otherwise(pl.lit([1.0]))\n",
    "    .alias(\"P-value\"),\n",
    "\n",
    "    pl.when(pl.col(\"Adj. P-value\").list.len() > 0)\n",
    "    .then(pl.col(\"Adj. P-value\"))\n",
    "    .otherwise(pl.lit([1.0]))\n",
    "    .alias(\"Adj. P-value\"),\n",
    "\n",
    "    pl.when(pl.col(\"CV\").list.len() > 0)\n",
    "    .then(pl.col(\"CV\"))\n",
    "    .otherwise(pl.lit([0.0]))\n",
    "    .alias(\"CV\"),\n",
    "\n",
    "    pl.when(pl.col(\"FC\").list.len() > 0)\n",
    "    .then(pl.col(\"FC\"))\n",
    "    .otherwise(pl.lit([0.0]))\n",
    "    .alias(\"FC\"),\n",
    ").select(\n",
    "    pl.col(\"Protein ID\"),\n",
    "\n",
    "    pl.col(\"P-value\").map_elements(lambda x: sp.stats.combine_pvalues(x)[1])\n",
    "    .alias(\"P-value\"),\n",
    "\n",
    "    pl.col(\"Adj. P-value\").map_elements(lambda x: sp.stats.combine_pvalues(x)[1])\n",
    "    .alias(\"Adj. P-value\"),\n",
    "\n",
    "    pl.col(\"CV\").map_elements(lambda x: np.nanmax(x))\n",
    "    .alias(\"CV\"),\n",
    "\n",
    "    pl.col(\"FC\").map_elements(lambda x: np.nanmedian(x))\n",
    "    .alias(\"FC\")\n",
    ")"
   ]
  },
  {
   "cell_type": "code",
   "execution_count": 7,
   "metadata": {},
   "outputs": [
    {
     "data": {
      "text/html": [
       "<div><style>\n",
       ".dataframe > thead > tr,\n",
       ".dataframe > tbody > tr {\n",
       "  text-align: right;\n",
       "  white-space: pre-wrap;\n",
       "}\n",
       "</style>\n",
       "<small>shape: (28_104, 12)</small><table border=\"1\" class=\"dataframe\"><thead><tr><th>Protein ID</th><th>Cut Site</th><th>Gene</th><th>Entry Name</th><th>Protein Description</th><th>Mapped Genes</th><th>Mapped Proteins</th><th>Half Tryptic</th><th>P-value</th><th>Adj. P-value</th><th>CV</th><th>FC</th></tr><tr><td>str</td><td>str</td><td>str</td><td>str</td><td>str</td><td>str</td><td>str</td><td>bool</td><td>f64</td><td>f64</td><td>f64</td><td>f64</td></tr></thead><tbody><tr><td>&quot;P00350&quot;</td><td>&quot;T220&quot;</td><td>&quot;gnd&quot;</td><td>&quot;6PGD_ECOLI&quot;</td><td>&quot;6-phosphogluco…</td><td>null</td><td>null</td><td>true</td><td>0.000005</td><td>0.003443</td><td>0.248862</td><td>298.440571</td></tr><tr><td>&quot;P00350&quot;</td><td>&quot;T220&quot;</td><td>&quot;gnd&quot;</td><td>&quot;6PGD_ECOLI&quot;</td><td>&quot;6-phosphogluco…</td><td>null</td><td>null</td><td>true</td><td>0.000888</td><td>0.046487</td><td>0.036748</td><td>0.001673</td></tr><tr><td>&quot;P00350&quot;</td><td>&quot;T220&quot;</td><td>&quot;gnd&quot;</td><td>&quot;6PGD_ECOLI&quot;</td><td>&quot;6-phosphogluco…</td><td>null</td><td>null</td><td>true</td><td>0.000021</td><td>0.015424</td><td>0.081713</td><td>2.895886</td></tr><tr><td>&quot;P00350&quot;</td><td>&quot;T220&quot;</td><td>&quot;gnd&quot;</td><td>&quot;6PGD_ECOLI&quot;</td><td>&quot;6-phosphogluco…</td><td>null</td><td>null</td><td>true</td><td>0.006282</td><td>0.125755</td><td>0.141682</td><td>2.019546</td></tr><tr><td>&quot;P00350&quot;</td><td>&quot;T220&quot;</td><td>&quot;gnd&quot;</td><td>&quot;6PGD_ECOLI&quot;</td><td>&quot;6-phosphogluco…</td><td>null</td><td>null</td><td>true</td><td>0.000295</td><td>0.022081</td><td>0.036748</td><td>0.055145</td></tr><tr><td>&quot;P00350&quot;</td><td>&quot;T220&quot;</td><td>&quot;gnd&quot;</td><td>&quot;6PGD_ECOLI&quot;</td><td>&quot;6-phosphogluco…</td><td>null</td><td>null</td><td>true</td><td>0.003568</td><td>0.070705</td><td>0.036748</td><td>0.005559</td></tr><tr><td>&quot;P00350&quot;</td><td>&quot;T220&quot;</td><td>&quot;gnd&quot;</td><td>&quot;6PGD_ECOLI&quot;</td><td>&quot;6-phosphogluco…</td><td>null</td><td>null</td><td>true</td><td>0.004398</td><td>0.070705</td><td>0.066402</td><td>0.302598</td></tr><tr><td>&quot;P00350&quot;</td><td>&quot;T220&quot;</td><td>&quot;gnd&quot;</td><td>&quot;6PGD_ECOLI&quot;</td><td>&quot;6-phosphogluco…</td><td>null</td><td>null</td><td>true</td><td>0.001376</td><td>0.033619</td><td>0.13496</td><td>2.026846</td></tr><tr><td>&quot;P00350&quot;</td><td>&quot;T220&quot;</td><td>&quot;gnd&quot;</td><td>&quot;6PGD_ECOLI&quot;</td><td>&quot;6-phosphogluco…</td><td>null</td><td>null</td><td>true</td><td>0.002224</td><td>0.04306</td><td>0.507252</td><td>0.110709</td></tr><tr><td>&quot;P00350&quot;</td><td>&quot;T220&quot;</td><td>&quot;gnd&quot;</td><td>&quot;6PGD_ECOLI&quot;</td><td>&quot;6-phosphogluco…</td><td>null</td><td>null</td><td>true</td><td>0.006116</td><td>0.070705</td><td>0.116909</td><td>3.872074</td></tr><tr><td>&quot;P00350&quot;</td><td>&quot;T220&quot;</td><td>&quot;gnd&quot;</td><td>&quot;6PGD_ECOLI&quot;</td><td>&quot;6-phosphogluco…</td><td>null</td><td>null</td><td>true</td><td>0.002084</td><td>0.036848</td><td>0.24791</td><td>114.774527</td></tr><tr><td>&quot;P00350&quot;</td><td>&quot;T220&quot;</td><td>&quot;gnd&quot;</td><td>&quot;6PGD_ECOLI&quot;</td><td>&quot;6-phosphogluco…</td><td>null</td><td>null</td><td>true</td><td>0.007647</td><td>0.070705</td><td>0.035212</td><td>2.659968</td></tr><tr><td>&hellip;</td><td>&hellip;</td><td>&hellip;</td><td>&hellip;</td><td>&hellip;</td><td>&hellip;</td><td>&hellip;</td><td>&hellip;</td><td>&hellip;</td><td>&hellip;</td><td>&hellip;</td><td>&hellip;</td></tr><tr><td>&quot;Q7DFV3&quot;</td><td>&quot;K50-K69&quot;</td><td>&quot;ymgG&quot;</td><td>&quot;YMGG_ECOLI&quot;</td><td>&quot;UPF0757 protei…</td><td>null</td><td>null</td><td>false</td><td>0.049997</td><td>0.124024</td><td>0.32714</td><td>214.486803</td></tr><tr><td>&quot;Q7DFV3&quot;</td><td>&quot;K50-K69&quot;</td><td>&quot;ymgG&quot;</td><td>&quot;YMGG_ECOLI&quot;</td><td>&quot;UPF0757 protei…</td><td>null</td><td>null</td><td>false</td><td>1.0</td><td>1.0</td><td>0.0</td><td>0.0</td></tr><tr><td>&quot;Q7DFV3&quot;</td><td>&quot;K50-K69&quot;</td><td>&quot;ymgG&quot;</td><td>&quot;YMGG_ECOLI&quot;</td><td>&quot;UPF0757 protei…</td><td>null</td><td>null</td><td>false</td><td>0.101172</td><td>0.126465</td><td>0.221487</td><td>1.734653</td></tr><tr><td>&quot;Q93K97&quot;</td><td>&quot;G12&quot;</td><td>&quot;nudF&quot;</td><td>&quot;ADPP_ECOLI&quot;</td><td>&quot;ADP-ribose pyr…</td><td>null</td><td>null</td><td>true</td><td>0.001899</td><td>0.018986</td><td>0.089128</td><td>6.71756</td></tr><tr><td>&quot;Q93K97&quot;</td><td>&quot;G12&quot;</td><td>&quot;nudF&quot;</td><td>&quot;ADPP_ECOLI&quot;</td><td>&quot;ADP-ribose pyr…</td><td>null</td><td>null</td><td>true</td><td>0.015828</td><td>0.074709</td><td>0.042929</td><td>0.089325</td></tr><tr><td>&quot;Q93K97&quot;</td><td>&quot;G12&quot;</td><td>&quot;nudF&quot;</td><td>&quot;ADPP_ECOLI&quot;</td><td>&quot;ADP-ribose pyr…</td><td>null</td><td>null</td><td>true</td><td>0.007888</td><td>0.048114</td><td>0.244499</td><td>6.077816</td></tr><tr><td>&quot;Q93K97&quot;</td><td>&quot;G12&quot;</td><td>&quot;nudF&quot;</td><td>&quot;ADPP_ECOLI&quot;</td><td>&quot;ADP-ribose pyr…</td><td>null</td><td>null</td><td>true</td><td>0.066422</td><td>0.132845</td><td>0.332355</td><td>7.079991</td></tr><tr><td>&quot;Q93K97&quot;</td><td>&quot;G12&quot;</td><td>&quot;nudF&quot;</td><td>&quot;ADPP_ECOLI&quot;</td><td>&quot;ADP-ribose pyr…</td><td>null</td><td>null</td><td>true</td><td>0.136741</td><td>0.227901</td><td>0.036748</td><td>0.002087</td></tr><tr><td>&quot;Q93K97&quot;</td><td>&quot;G12&quot;</td><td>&quot;nudF&quot;</td><td>&quot;ADPP_ECOLI&quot;</td><td>&quot;ADP-ribose pyr…</td><td>null</td><td>null</td><td>true</td><td>0.19886</td><td>0.284086</td><td>0.180374</td><td>0.494878</td></tr><tr><td>&quot;Q93K97&quot;</td><td>&quot;G12&quot;</td><td>&quot;nudF&quot;</td><td>&quot;ADPP_ECOLI&quot;</td><td>&quot;ADP-ribose pyr…</td><td>null</td><td>null</td><td>true</td><td>0.328859</td><td>0.376301</td><td>0.033399</td><td>0.75884</td></tr><tr><td>&quot;Q93K97&quot;</td><td>&quot;G12&quot;</td><td>&quot;nudF&quot;</td><td>&quot;ADPP_ECOLI&quot;</td><td>&quot;ADP-ribose pyr…</td><td>null</td><td>null</td><td>true</td><td>0.338671</td><td>0.376301</td><td>0.456245</td><td>1.676334</td></tr><tr><td>&quot;Q93K97&quot;</td><td>&quot;G12&quot;</td><td>&quot;nudF&quot;</td><td>&quot;ADPP_ECOLI&quot;</td><td>&quot;ADP-ribose pyr…</td><td>null</td><td>null</td><td>true</td><td>0.884184</td><td>0.884184</td><td>0.199943</td><td>1.035983</td></tr></tbody></table></div>"
      ],
      "text/plain": [
       "shape: (28_104, 12)\n",
       "┌────────────┬──────────┬──────┬────────────┬───┬──────────┬──────────────┬──────────┬────────────┐\n",
       "│ Protein ID ┆ Cut Site ┆ Gene ┆ Entry Name ┆ … ┆ P-value  ┆ Adj. P-value ┆ CV       ┆ FC         │\n",
       "│ ---        ┆ ---      ┆ ---  ┆ ---        ┆   ┆ ---      ┆ ---          ┆ ---      ┆ ---        │\n",
       "│ str        ┆ str      ┆ str  ┆ str        ┆   ┆ f64      ┆ f64          ┆ f64      ┆ f64        │\n",
       "╞════════════╪══════════╪══════╪════════════╪═══╪══════════╪══════════════╪══════════╪════════════╡\n",
       "│ P00350     ┆ T220     ┆ gnd  ┆ 6PGD_ECOLI ┆ … ┆ 0.000005 ┆ 0.003443     ┆ 0.248862 ┆ 298.440571 │\n",
       "│ P00350     ┆ T220     ┆ gnd  ┆ 6PGD_ECOLI ┆ … ┆ 0.000888 ┆ 0.046487     ┆ 0.036748 ┆ 0.001673   │\n",
       "│ P00350     ┆ T220     ┆ gnd  ┆ 6PGD_ECOLI ┆ … ┆ 0.000021 ┆ 0.015424     ┆ 0.081713 ┆ 2.895886   │\n",
       "│ P00350     ┆ T220     ┆ gnd  ┆ 6PGD_ECOLI ┆ … ┆ 0.006282 ┆ 0.125755     ┆ 0.141682 ┆ 2.019546   │\n",
       "│ …          ┆ …        ┆ …    ┆ …          ┆ … ┆ …        ┆ …            ┆ …        ┆ …          │\n",
       "│ Q93K97     ┆ G12      ┆ nudF ┆ ADPP_ECOLI ┆ … ┆ 0.19886  ┆ 0.284086     ┆ 0.180374 ┆ 0.494878   │\n",
       "│ Q93K97     ┆ G12      ┆ nudF ┆ ADPP_ECOLI ┆ … ┆ 0.328859 ┆ 0.376301     ┆ 0.033399 ┆ 0.75884    │\n",
       "│ Q93K97     ┆ G12      ┆ nudF ┆ ADPP_ECOLI ┆ … ┆ 0.338671 ┆ 0.376301     ┆ 0.456245 ┆ 1.676334   │\n",
       "│ Q93K97     ┆ G12      ┆ nudF ┆ ADPP_ECOLI ┆ … ┆ 0.884184 ┆ 0.884184     ┆ 0.199943 ┆ 1.035983   │\n",
       "└────────────┴──────────┴──────┴────────────┴───┴──────────┴──────────────┴──────────┴────────────┘"
      ]
     },
     "execution_count": 7,
     "metadata": {},
     "output_type": "execute_result"
    }
   ],
   "source": [
    "meta.join(data, left_on = \"Protein ID\", right_on = \"Protein ID\")"
   ]
  },
  {
   "cell_type": "code",
   "execution_count": null,
   "metadata": {},
   "outputs": [],
   "source": []
  }
 ],
 "metadata": {
  "kernelspec": {
   "display_name": "flippr",
   "language": "python",
   "name": "python3"
  },
  "language_info": {
   "codemirror_mode": {
    "name": "ipython",
    "version": 3
   },
   "file_extension": ".py",
   "mimetype": "text/x-python",
   "name": "python",
   "nbconvert_exporter": "python",
   "pygments_lexer": "ipython3",
   "version": "3.11.5"
  }
 },
 "nbformat": 4,
 "nbformat_minor": 2
}
